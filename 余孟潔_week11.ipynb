{
  "nbformat": 4,
  "nbformat_minor": 0,
  "metadata": {
    "colab": {
      "name": "余孟潔-week11.ipynb",
      "provenance": [],
      "authorship_tag": "ABX9TyOIJONXXb4PVW50vy2r2YBR",
      "include_colab_link": true
    },
    "kernelspec": {
      "name": "python3",
      "display_name": "Python 3"
    },
    "language_info": {
      "name": "python"
    }
  },
  "cells": [
    {
      "cell_type": "markdown",
      "metadata": {
        "id": "view-in-github",
        "colab_type": "text"
      },
      "source": [
        "<a href=\"https://colab.research.google.com/github/a109010144/Computational-Thinking-and-Program-Design/blob/main/%E4%BD%99%E5%AD%9F%E6%BD%94_week11.ipynb\" target=\"_parent\"><img src=\"https://colab.research.google.com/assets/colab-badge.svg\" alt=\"Open In Colab\"/></a>"
      ]
    },
    {
      "cell_type": "code",
      "metadata": {
        "colab": {
          "base_uri": "https://localhost:8080/"
        },
        "id": "2jALdxLjqM7k",
        "outputId": "fe490241-2c7a-48c8-ec94-298cabfa48da"
      },
      "source": [
        "##Input\n",
        "number=input(\"Enter the last digit of ID card:\")\n",
        "number=int(number)\n",
        "##process\n",
        "print(number%2==1)\n",
        "##output\n",
        "print(\"\")"
      ],
      "execution_count": 5,
      "outputs": [
        {
          "output_type": "stream",
          "text": [
            "Enter the last digit of ID card:7\n",
            "True\n",
            "\n"
          ],
          "name": "stdout"
        }
      ]
    },
    {
      "cell_type": "code",
      "metadata": {
        "colab": {
          "base_uri": "https://localhost:8080/"
        },
        "id": "GUVxsJybxZCN",
        "outputId": "4cd17de4-4f49-4c02-b12f-a9a3d72c1a58"
      },
      "source": [
        "##身分證字號尾數是否為機數\n",
        "id_last_digit=input(\"請輸入身分證字號尾數:\")\n",
        "ans=int(id_last_digit)%2==1\n",
        "print(\"身分證尾數除以2的餘數是否為1:\",ans)"
      ],
      "execution_count": 6,
      "outputs": [
        {
          "output_type": "stream",
          "text": [
            "請輸入身分證字號尾數:7\n",
            "身分證尾數除以2的餘數是否為1: True\n"
          ],
          "name": "stdout"
        }
      ]
    }
  ]
}