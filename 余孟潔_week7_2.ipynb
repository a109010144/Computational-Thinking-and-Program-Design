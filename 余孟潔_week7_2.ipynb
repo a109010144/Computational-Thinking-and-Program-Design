{
  "nbformat": 4,
  "nbformat_minor": 0,
  "metadata": {
    "colab": {
      "name": "余孟潔-week7-2.ipynb",
      "provenance": [],
      "authorship_tag": "ABX9TyMyF+GqaxihblUV1W3ojgP/",
      "include_colab_link": true
    },
    "kernelspec": {
      "name": "python3",
      "display_name": "Python 3"
    },
    "language_info": {
      "name": "python"
    }
  },
  "cells": [
    {
      "cell_type": "markdown",
      "metadata": {
        "id": "view-in-github",
        "colab_type": "text"
      },
      "source": [
        "<a href=\"https://colab.research.google.com/github/a109010144/Computational-Thinking-and-Program-Design/blob/main/%E4%BD%99%E5%AD%9F%E6%BD%94_week7_2.ipynb\" target=\"_parent\"><img src=\"https://colab.research.google.com/assets/colab-badge.svg\" alt=\"Open In Colab\"/></a>"
      ]
    },
    {
      "cell_type": "code",
      "metadata": {
        "colab": {
          "base_uri": "https://localhost:8080/"
        },
        "id": "Iqphk1bfl7rb",
        "outputId": "472f2990-f7cf-48a4-f513-f28e2415c746"
      },
      "source": [
        "## Input\n",
        "PI = 3.14\n",
        "r1 = input(\"Enter radius 1: \")\n",
        "r2 = input(\"Enter radius 2: \")\n",
        "r1 = float(r1)\n",
        "r2 = float(r2)\n",
        "\n",
        "## Process\n",
        "area1 = PI * r1 * r1\n",
        "area2 = PI * r2 * r2\n",
        "area=area1-area2\n",
        "##output\n",
        "print(f\"{area}\")"
      ],
      "execution_count": 21,
      "outputs": [
        {
          "output_type": "stream",
          "text": [
            "Enter radius 1: 8\n",
            "Enter radius 2: 6\n",
            "87.92000000000002\n"
          ],
          "name": "stdout"
        }
      ]
    },
    {
      "cell_type": "code",
      "metadata": {
        "id": "IphAJ32DnQJR"
      },
      "source": [
        ""
      ],
      "execution_count": null,
      "outputs": []
    }
  ]
}