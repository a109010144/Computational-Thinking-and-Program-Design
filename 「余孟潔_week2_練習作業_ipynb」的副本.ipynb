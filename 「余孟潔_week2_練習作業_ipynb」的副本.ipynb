{
  "nbformat": 4,
  "nbformat_minor": 0,
  "metadata": {
    "colab": {
      "name": "「余孟潔-week2-練習作業.ipynb」的副本",
      "provenance": [],
      "authorship_tag": "ABX9TyOLkpXdqCNCIywYE7JSfyaN",
      "include_colab_link": true
    },
    "kernelspec": {
      "name": "python3",
      "display_name": "Python 3"
    }
  },
  "cells": [
    {
      "cell_type": "markdown",
      "metadata": {
        "id": "view-in-github",
        "colab_type": "text"
      },
      "source": [
        "<a href=\"https://colab.research.google.com/github/a109010144/Computational-Thinking-and-Program-Design/blob/main/%E3%80%8C%E4%BD%99%E5%AD%9F%E6%BD%94_week2_%E7%B7%B4%E7%BF%92%E4%BD%9C%E6%A5%AD_ipynb%E3%80%8D%E7%9A%84%E5%89%AF%E6%9C%AC.ipynb\" target=\"_parent\"><img src=\"https://colab.research.google.com/assets/colab-badge.svg\" alt=\"Open In Colab\"/></a>"
      ]
    },
    {
      "cell_type": "code",
      "metadata": {
        "colab": {
          "base_uri": "https://localhost:8080/"
        },
        "id": "CN7EaZ457BM8",
        "outputId": "157472db-c848-44a2-c3d1-7e87e84f0136"
      },
      "source": [
        "print(1+1)"
      ],
      "execution_count": null,
      "outputs": [
        {
          "output_type": "stream",
          "text": [
            "2\n"
          ],
          "name": "stdout"
        }
      ]
    },
    {
      "cell_type": "markdown",
      "metadata": {
        "id": "Qwtg_XI5AwKw"
      },
      "source": [
        "練習作業"
      ]
    },
    {
      "cell_type": "code",
      "metadata": {
        "colab": {
          "base_uri": "https://localhost:8080/"
        },
        "id": "JRDY807-8phY",
        "outputId": "83a985c4-6978-4170-f448-47c0ad3e2172"
      },
      "source": [
        "print(\"My name is molly.\")"
      ],
      "execution_count": null,
      "outputs": [
        {
          "output_type": "stream",
          "text": [
            "My name is molly.\n"
          ],
          "name": "stdout"
        }
      ]
    }
  ]
}