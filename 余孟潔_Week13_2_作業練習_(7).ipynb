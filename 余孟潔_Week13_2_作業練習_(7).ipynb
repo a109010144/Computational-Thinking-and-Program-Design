{
  "nbformat": 4,
  "nbformat_minor": 0,
  "metadata": {
    "kernelspec": {
      "display_name": "Python 3",
      "language": "python",
      "name": "python3"
    },
    "language_info": {
      "codemirror_mode": {
        "name": "ipython",
        "version": 3
      },
      "file_extension": ".py",
      "mimetype": "text/x-python",
      "name": "python",
      "nbconvert_exporter": "python",
      "pygments_lexer": "ipython3",
      "version": "3.8.5"
    },
    "colab": {
      "name": "余孟潔-Week13-2-作業練習 (7).ipynb",
      "provenance": [],
      "include_colab_link": true
    }
  },
  "cells": [
    {
      "cell_type": "markdown",
      "metadata": {
        "id": "view-in-github",
        "colab_type": "text"
      },
      "source": [
        "<a href=\"https://colab.research.google.com/github/a109010144/Computational-Thinking-and-Program-Design/blob/main/%E4%BD%99%E5%AD%9F%E6%BD%94_Week13_2_%E4%BD%9C%E6%A5%AD%E7%B7%B4%E7%BF%92_(7).ipynb\" target=\"_parent\"><img src=\"https://colab.research.google.com/assets/colab-badge.svg\" alt=\"Open In Colab\"/></a>"
      ]
    },
    {
      "cell_type": "markdown",
      "metadata": {
        "id": "FTHQu7IRt6Tn"
      },
      "source": [
        "**隨堂練習1： BMI 計算**\n",
        "\n",
        "請寫一個程式讓使用者輸入身高與體重，顯示BMI 值與肥胖程度。 BMI 等於體重（KG）除以身高（M）的平方，而BMI 與肥胖分類標準如下：\n",
        "\n",
        "若BMI 值小於18，則顯示「體重過輕」，否則若BMI 值小於24，則顯示「體重正常」，若BMI 值小於27，則顯示「體重過重」，否則顯示「體重肥胖」。"
      ]
    },
    {
      "cell_type": "code",
      "metadata": {
        "colab": {
          "base_uri": "https://localhost:8080/"
        },
        "id": "zRamuuACt6Tt",
        "outputId": "8418189d-9a19-4491-991e-c7a9649190a8"
      },
      "source": [
        "#input\n",
        "w=float(input('請輸入體重(kg)?'))\n",
        "h=float(input('請輸入身高(m)?'))\n",
        "#process\n",
        "bmi=w/(h*h)\n",
        "#output\n",
        "print('BMI為',bmi)\n",
        "if bmi<18:\n",
        "    print('體重過輕')\n",
        "elif bmi<24:\n",
        "    print('體重正常')\n",
        "elif bmi<27:\n",
        "    print('體重過重')\n",
        "else:\n",
        "    print('體重肥胖')"
      ],
      "execution_count": 5,
      "outputs": [
        {
          "output_type": "stream",
          "text": [
            "請輸入體重(kg)?50\n",
            "請輸入身高(m)?1.5\n",
            "BMI為 22.22222222222222\n",
            "體重正常\n"
          ],
          "name": "stdout"
        }
      ]
    },
    {
      "cell_type": "markdown",
      "metadata": {
        "id": "ptwnq4KWt6Tu"
      },
      "source": [
        "**隨堂練習2： 三一律(單向選擇、雙向與巢狀選擇、多向選擇)**\n",
        "\n",
        "請輸入一個數，然後判斷這個數是正數、是負數或者是零。"
      ]
    },
    {
      "cell_type": "code",
      "metadata": {
        "id": "-LOFyXsMt6Tv"
      },
      "source": [
        "num=int(input('Pick a number:'))\n",
        "if num>0:\n",
        "    print('Your mumber is positive.')\n",
        "if num<0:\n",
        "    print('Your mumber is negative.')\n",
        "if num==0:\n",
        "    print('Your mumber is zero.')\n",
        "print('Finished')"
      ],
      "execution_count": null,
      "outputs": []
    },
    {
      "cell_type": "markdown",
      "metadata": {
        "id": "HMp3veIgt6Tv"
      },
      "source": [
        "**練習5   體溫與發燒**\n",
        "\n",
        "設計程式根據體溫判斷是否發燒，由使用者輸入體溫，程式判斷是否發燒，假設體溫小於36度，顯示「體溫過低」，體溫大於等於36度小於38度，顯示「體溫正常」，否則若體溫大於等於38度小於39度，顯示「體溫有點燒」，否則體溫大於等於39度，顯示「體溫很燒」。\n",
        "\n",
        "輸入體溫「36.5」，輸出為「體溫正常」。\n",
        "\n",
        "～程式執行結果如下。\n",
        "\n",
        "請輸入體溫？36.5\n",
        "\n",
        "體溫正常"
      ]
    },
    {
      "cell_type": "code",
      "metadata": {
        "colab": {
          "base_uri": "https://localhost:8080/"
        },
        "id": "x9aqIDlkt6Tw",
        "outputId": "7e34337e-d92a-4922-d78a-075311992b94"
      },
      "source": [
        "##input data\n",
        "temperature=float(input('請輸入體溫:'))\n",
        "if temperature<36:\n",
        "    print('too low')\n",
        "#elif是在if假設的前提開始假設的\n",
        "elif temperature<38:\n",
        "    print('normal')\n",
        "elif temperature<39:\n",
        "    print('hight')\n",
        "else:\n",
        "    print('very high')"
      ],
      "execution_count": 13,
      "outputs": [
        {
          "output_type": "stream",
          "text": [
            "請輸入體溫:39\n",
            "very high\n"
          ],
          "name": "stdout"
        }
      ]
    },
    {
      "cell_type": "markdown",
      "metadata": {
        "id": "wZMXXT5ft6Tw"
      },
      "source": [
        "**練習6  閏年判斷**\n",
        "\n",
        "設計程式允許輸入西元幾年，請求出該年是否是閏年，閏年表示該年多一天，若為4的倍數稱做閏年，但若為100的倍數就不為閏年，且若為400倍數又是閏年。(四年一潤、百年不潤、四百年再潤)\n",
        "\n",
        "輸入年份「2012」，輸出為「2012是閏年」。\n",
        "\n",
        "～程式執行結果如下。\n",
        "\n",
        "請輸入年份？2012\n",
        "\n",
        "2012 是閏年"
      ]
    },
    {
      "cell_type": "code",
      "metadata": {
        "colab": {
          "base_uri": "https://localhost:8080/"
        },
        "id": "K4uGFHKat6Tx",
        "outputId": "a42f769d-55ea-4e22-8118-aa86c9844ae4"
      },
      "source": [
        "##input data\n",
        "year=int(input('請輸入年分'))\n",
        "##process\n",
        "if((year%400)==0):\n",
        "    print(year,'是閏年')\n",
        "elif((year%100)==0):\n",
        "    print(year,'不是閏年')\n",
        "elif((year%4)==0):\n",
        "    print(year,'是閏年')\n",
        "else:\n",
        "    print(year,'不是閏年')"
      ],
      "execution_count": 16,
      "outputs": [
        {
          "output_type": "stream",
          "text": [
            "請輸入年分2020\n",
            "2020 是閏年\n"
          ],
          "name": "stdout"
        }
      ]
    },
    {
      "cell_type": "markdown",
      "metadata": {
        "id": "ay-qs6zqt6Tx"
      },
      "source": [
        "**練習12：計程車計費**\n",
        "\n",
        "某城市計程車計費3公里以內6元，超過3公里不足10公里、每公里1.8元，超過10公里則超過部分加收50%。此外停車等候每3分鐘收1元，請用Python寫出車費是多少。"
      ]
    },
    {
      "cell_type": "code",
      "metadata": {
        "id": "UHT6HFO5t6Ty"
      },
      "source": [
        ""
      ],
      "execution_count": null,
      "outputs": []
    },
    {
      "cell_type": "code",
      "metadata": {
        "id": "Ikstpoh0t6Tx",
        "colab": {
          "base_uri": "https://localhost:8080/"
        },
        "outputId": "d220ed8c-7cd4-4bfb-ec72-b62ada2f743d"
      },
      "source": [
        "lenght=int(input(\"請輸入距離:\"))\n",
        "time=int(input(\"請輸入時間:\"))\n",
        "if lenght>=10:\n",
        "    feight=6+(10-3)*1.8+(lenght-10)*1.8*1.5\n",
        "elif lenght>=3:\n",
        "    feight=6+(length-3)*1.8\n",
        "else:\n",
        "    feight=6\n",
        "pay_time=time/3*1\n",
        "total=feight+pay_time"
      ],
      "execution_count": 20,
      "outputs": [
        {
          "output_type": "stream",
          "text": [
            "請輸入距離:10\n",
            "請輸入時間:6\n"
          ],
          "name": "stdout"
        }
      ]
    },
    {
      "cell_type": "code",
      "metadata": {
        "id": "eAkZg4a-28pI"
      },
      "source": [
        ""
      ],
      "execution_count": null,
      "outputs": []
    }
  ]
}