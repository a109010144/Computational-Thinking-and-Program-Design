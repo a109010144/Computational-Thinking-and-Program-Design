{
  "nbformat": 4,
  "nbformat_minor": 0,
  "metadata": {
    "kernelspec": {
      "display_name": "Python 3",
      "language": "python",
      "name": "python3"
    },
    "language_info": {
      "codemirror_mode": {
        "name": "ipython",
        "version": 3
      },
      "file_extension": ".py",
      "mimetype": "text/x-python",
      "name": "python",
      "nbconvert_exporter": "python",
      "pygments_lexer": "ipython3",
      "version": "3.8.5"
    },
    "colab": {
      "name": "余孟潔-Week13-作業練習.ipynb",
      "provenance": [],
      "include_colab_link": true
    }
  },
  "cells": [
    {
      "cell_type": "markdown",
      "metadata": {
        "id": "view-in-github",
        "colab_type": "text"
      },
      "source": [
        "<a href=\"https://colab.research.google.com/github/a109010144/Computational-Thinking-and-Program-Design/blob/main/%E4%BD%99%E5%AD%9F%E6%BD%94_Week13_%E4%BD%9C%E6%A5%AD%E7%B7%B4%E7%BF%92.ipynb\" target=\"_parent\"><img src=\"https://colab.research.google.com/assets/colab-badge.svg\" alt=\"Open In Colab\"/></a>"
      ]
    },
    {
      "cell_type": "markdown",
      "metadata": {
        "id": "8TQPS_flsLpe"
      },
      "source": [
        "**隨堂練習1： BMI 計算**\n",
        "\n",
        "請寫一個程式讓使用者輸入身高與體重，顯示BMI 值與肥胖程度。 BMI 等於體重（KG）除以身高（M）的平方，而BMI 與肥胖分類標準如下：\n",
        "\n",
        "若BMI 值小於18，則顯示「體重過輕」，否則若BMI 值小於24，則顯示「體重正常」，若BMI 值小於27，則顯示「體重過重」，否則顯示「體重肥胖」。"
      ]
    },
    {
      "cell_type": "code",
      "metadata": {
        "id": "ypYvUDQJsLps",
        "colab": {
          "base_uri": "https://localhost:8080/"
        },
        "outputId": "9d71b54f-e9c3-40e8-f48a-cee91a14a545"
      },
      "source": [
        "#input\n",
        "w=float(input('請輸入體重(kg)?'))\n",
        "h=float(input('請輸入身高(m)?'))\n",
        "#process\n",
        "bmi=w/(h*h)\n",
        "#output\n",
        "print('BMI為',bmi)\n",
        "if bmi<18:\n",
        "    print('體重過輕')\n",
        "elif bmi<24:\n",
        "    print('體重正常')\n",
        "elif bmi<27:\n",
        "    print('體重過重')\n",
        "elif bmi>27:\n",
        "    print('體重肥胖')"
      ],
      "execution_count": 8,
      "outputs": [
        {
          "output_type": "stream",
          "text": [
            "請輸入體重(kg)?50\n",
            "請輸入身高(m)?1.5\n",
            "BMI為 22.22222222222222\n",
            "體重正常\n"
          ],
          "name": "stdout"
        }
      ]
    },
    {
      "cell_type": "markdown",
      "metadata": {
        "id": "Cp3IFP4wsLpt"
      },
      "source": [
        "**隨堂練習2： 三一律(單向選擇、雙向與巢狀選擇、多向選擇)**\n",
        "\n",
        "請輸入一個數，然後判斷這個數是正數、是負數或者是零。"
      ]
    },
    {
      "cell_type": "code",
      "metadata": {
        "id": "ZVK2EjcrsLpu",
        "colab": {
          "base_uri": "https://localhost:8080/"
        },
        "outputId": "4421fdcb-118a-4549-eb7f-be060b20d7c2"
      },
      "source": [
        "num=int(input('Pick a number:'))\n",
        "if num>0:\n",
        "    print('Your mumber is positive.')\n",
        "if num<0:\n",
        "    print('Your mumber is negative.')\n",
        "if num==0:\n",
        "    print('Your mumber is zero.')\n",
        "print('Finished')"
      ],
      "execution_count": 12,
      "outputs": [
        {
          "output_type": "stream",
          "text": [
            "Pick a number:5\n",
            "Your mumber is positive.\n",
            "Finished\n"
          ],
          "name": "stdout"
        }
      ]
    }
  ]
}