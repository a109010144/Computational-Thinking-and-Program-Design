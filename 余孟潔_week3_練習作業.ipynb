{
  "nbformat": 4,
  "nbformat_minor": 0,
  "metadata": {
    "colab": {
      "name": "余孟潔-week3-練習作業.ipynb",
      "provenance": [],
      "authorship_tag": "ABX9TyM50EBWlZKuSK11JjBt0AhQ",
      "include_colab_link": true
    },
    "kernelspec": {
      "name": "python3",
      "display_name": "Python 3"
    }
  },
  "cells": [
    {
      "cell_type": "markdown",
      "metadata": {
        "id": "view-in-github",
        "colab_type": "text"
      },
      "source": [
        "<a href=\"https://colab.research.google.com/github/a109010144/Computational-Thinking-and-Program-Design/blob/main/%E4%BD%99%E5%AD%9F%E6%BD%94_week3_%E7%B7%B4%E7%BF%92%E4%BD%9C%E6%A5%AD.ipynb\" target=\"_parent\"><img src=\"https://colab.research.google.com/assets/colab-badge.svg\" alt=\"Open In Colab\"/></a>"
      ]
    },
    {
      "cell_type": "code",
      "metadata": {
        "id": "ZjnI9H0tMDzz"
      },
      "source": [
        ""
      ],
      "execution_count": null,
      "outputs": []
    },
    {
      "cell_type": "markdown",
      "metadata": {
        "id": "6g7tqv4jNzIU"
      },
      "source": [
        "#練習作業 "
      ]
    },
    {
      "cell_type": "code",
      "metadata": {
        "colab": {
          "base_uri": "https://localhost:8080/"
        },
        "id": "R_kw3c-mONvO",
        "outputId": "f18caca5-2c5b-4cba-a085-a726812a7551"
      },
      "source": [
        "print(1+1)"
      ],
      "execution_count": 1,
      "outputs": [
        {
          "output_type": "stream",
          "text": [
            "2\n"
          ],
          "name": "stdout"
        }
      ]
    },
    {
      "cell_type": "markdown",
      "metadata": {
        "id": "lorbve5wb8xM"
      },
      "source": [
        ""
      ]
    },
    {
      "cell_type": "markdown",
      "metadata": {
        "id": "8GomitURcKLr"
      },
      "source": [
        "課後練習\r\n",
        "https://www.bnext.com.tw/article/56444/data-man-andy-lin\r\n",
        "看完這個報導讓我了解到，在現在這個時代，大數據已被廣泛利用，當我們在調查、了解一個新事物時，大數據是捷徑，能用更客觀及準確的方式輕鬆了解。其中身為未來可能會在媒體業工作的我，當每天接觸到一堆非個人專業的問題時，有這項使用電腦的數據的能力就尤為重要。雖然平常本能的抗拒學習許多和電腦有關的事物，不過林佳賢指出，「你一定需要更深的資料分析能力，才能講好這個故事。」我必須跨出自己的舒適圈，學習新技能，才能在未來的工作上有更多彈性和選擇。"
      ]
    },
    {
      "cell_type": "markdown",
      "metadata": {
        "id": "GxXO_XmHOV9i"
      },
      "source": [
        "隨堂練習"
      ]
    }
  ]
}