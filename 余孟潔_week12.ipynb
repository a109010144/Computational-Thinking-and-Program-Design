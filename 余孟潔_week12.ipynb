{
  "nbformat": 4,
  "nbformat_minor": 0,
  "metadata": {
    "colab": {
      "name": "余孟潔-week12.ipynb",
      "provenance": [],
      "authorship_tag": "ABX9TyM6VNBVKMGbZLhKXBX7IYj5",
      "include_colab_link": true
    },
    "kernelspec": {
      "name": "python3",
      "display_name": "Python 3"
    },
    "language_info": {
      "name": "python"
    }
  },
  "cells": [
    {
      "cell_type": "markdown",
      "metadata": {
        "id": "view-in-github",
        "colab_type": "text"
      },
      "source": [
        "<a href=\"https://colab.research.google.com/github/a109010144/Computational-Thinking-and-Program-Design/blob/main/%E4%BD%99%E5%AD%9F%E6%BD%94_week12.ipynb\" target=\"_parent\"><img src=\"https://colab.research.google.com/assets/colab-badge.svg\" alt=\"Open In Colab\"/></a>"
      ]
    },
    {
      "cell_type": "code",
      "metadata": {
        "colab": {
          "base_uri": "https://localhost:8080/"
        },
        "id": "CsE4OUiamtDK",
        "outputId": "d7ca5cab-719b-4b89-926a-163bc92a2265"
      },
      "source": [
        "num=-5\n",
        "if num > 0:\n",
        "    print(\"the number is postitive\")\n",
        "print(\"Finish\")\n"
      ],
      "execution_count": null,
      "outputs": [
        {
          "output_type": "stream",
          "text": [
            "Finish\n"
          ],
          "name": "stdout"
        }
      ]
    },
    {
      "cell_type": "code",
      "metadata": {
        "colab": {
          "base_uri": "https://localhost:8080/"
        },
        "id": "0KWpYcZuqLUm",
        "outputId": "1cfb3a93-de25-4e5f-a729-5987cae3aa05"
      },
      "source": [
        "num=int(input(\"輸入一個數字: \"))\n",
        "if num>0:\n",
        "    print(\"是正數\")\n",
        "if num<0:\n",
        "    print(\"是負數\")\n",
        "if num==0:\n",
        "    print(\"數字是0\")\n",
        "print(\"比較完畢\")   "
      ],
      "execution_count": null,
      "outputs": [
        {
          "output_type": "stream",
          "text": [
            "輸入一個數字: 5\n",
            "是正數\n",
            "比較完畢\n"
          ],
          "name": "stdout"
        }
      ]
    },
    {
      "cell_type": "code",
      "metadata": {
        "colab": {
          "base_uri": "https://localhost:8080/"
        },
        "id": "tCxW55VgsDLT",
        "outputId": "9910a74c-b9ba-4c12-9e47-d830b89a9188"
      },
      "source": [
        "##巢狀條式\n",
        "num_a=int(input(\"輸入第一個數字?\"))\n",
        "num_b=int(input(\"輸入第二個數字?\"))\n",
        "if num_a<0:\n",
        "    print(\"第一個是負數\")\n",
        "    if num_b<0:\n",
        "        print(\"第二個也是負數\")\n",
        "print(\"比較完成\")"
      ],
      "execution_count": null,
      "outputs": [
        {
          "output_type": "stream",
          "text": [
            "輸入第一個數字?5\n",
            "輸入第二個數字?8\n",
            "比較完成\n"
          ],
          "name": "stdout"
        }
      ]
    },
    {
      "cell_type": "code",
      "metadata": {
        "id": "cJAt_Fyxtexq",
        "colab": {
          "base_uri": "https://localhost:8080/"
        },
        "outputId": "db3d08bc-5cfd-4c79-a602-af30c77e81cc"
      },
      "source": [
        "price = int(input('實際購買價格？'))\n",
        "if price>=2000:\n",
        "         print('可以享有9折優惠喔!')     \n",
        "else:\n",
        "         print('買滿2000就能想9折優惠！')"
      ],
      "execution_count": null,
      "outputs": [
        {
          "output_type": "stream",
          "text": [
            "實際購買價格？1993\n",
            "買滿2000就能想9折優惠！\n"
          ],
          "name": "stdout"
        }
      ]
    },
    {
      "cell_type": "code",
      "metadata": {
        "colab": {
          "base_uri": "https://localhost:8080/"
        },
        "id": "R9ohewS35jLk",
        "outputId": "eed67e85-b1a7-4349-c0db-6ba5e5a30baa"
      },
      "source": [
        "##滿2000打9折\n",
        "cost=int(input(\"請輸入購買金額\"))\n",
        "if cost>=2000:\n",
        "    print(cost*0.9)\n",
        "else:\n",
        "    print(cost)"
      ],
      "execution_count": 18,
      "outputs": [
        {
          "output_type": "stream",
          "text": [
            "請輸入購買金額2010\n",
            "1809.0\n"
          ],
          "name": "stdout"
        }
      ]
    },
    {
      "cell_type": "code",
      "metadata": {
        "id": "Y2MI4CZ-6D_5"
      },
      "source": [
        "##判斷機數偶數\n",
        "num=int(input(\"請輸入一個整數\"))\n",
        "if num%2==0:\n",
        "    print(num，\"為偶數\")\n",
        "else:\n",
        "    print(num，\"為奇數\")"
      ],
      "execution_count": null,
      "outputs": []
    }
  ]
}