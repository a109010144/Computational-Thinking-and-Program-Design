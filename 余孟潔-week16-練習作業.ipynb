{
  "nbformat": 4,
  "nbformat_minor": 0,
  "metadata": {
    "colab": {
      "name": "余孟潔-week16-練習作業.ipynb",
      "provenance": [],
      "collapsed_sections": [],
      "authorship_tag": "ABX9TyPafe/Hn8wKjc+1K0ieRqQj",
      "include_colab_link": true
    },
    "kernelspec": {
      "name": "python3",
      "display_name": "Python 3"
    },
    "language_info": {
      "name": "python"
    }
  },
  "cells": [
    {
      "cell_type": "markdown",
      "metadata": {
        "id": "view-in-github",
        "colab_type": "text"
      },
      "source": [
        "<a href=\"https://colab.research.google.com/github/a109010144/Computational-Thinking-and-Program-Design/blob/main/%E4%BD%99%E5%AD%9F%E6%BD%94-week16-%E7%B7%B4%E7%BF%92%E4%BD%9C%E6%A5%AD.ipynb\" target=\"_parent\"><img src=\"https://colab.research.google.com/assets/colab-badge.svg\" alt=\"Open In Colab\"/></a>"
      ]
    },
    {
      "cell_type": "code",
      "metadata": {
        "colab": {
          "base_uri": "https://localhost:8080/"
        },
        "id": "2h0Uolly1iE5",
        "outputId": "d46146fb-10f4-42ce-e137-3e6821843c45"
      },
      "source": [
        "n=90\n",
        "while n<140:\n",
        "    n=n+10\n",
        "    print(\"心跳低於\",n,\"還要再繼續跑喔\")\n",
        "print(\"恭喜終於跑完了\")"
      ],
      "execution_count": null,
      "outputs": [
        {
          "output_type": "stream",
          "text": [
            "心跳低於 100 還要再繼續跑喔\n",
            "心跳低於 110 還要再繼續跑喔\n",
            "心跳低於 120 還要再繼續跑喔\n",
            "心跳低於 130 還要再繼續跑喔\n",
            "心跳低於 140 還要再繼續跑喔\n",
            "恭喜終於跑完了\n"
          ],
          "name": "stdout"
        }
      ]
    },
    {
      "cell_type": "code",
      "metadata": {
        "colab": {
          "base_uri": "https://localhost:8080/"
        },
        "id": "lTT0CLPAP4r6",
        "outputId": "26e56d32-c762-4780-9ddf-c07329b6d989"
      },
      "source": [
        "n=0\n",
        "while n<10:\n",
        "    print(\"hello\")\n",
        "    n=n+1"
      ],
      "execution_count": null,
      "outputs": [
        {
          "output_type": "stream",
          "text": [
            "hello\n",
            "hello\n",
            "hello\n",
            "hello\n",
            "hello\n",
            "hello\n",
            "hello\n",
            "hello\n",
            "hello\n",
            "hello\n"
          ],
          "name": "stdout"
        }
      ]
    },
    {
      "cell_type": "code",
      "metadata": {
        "colab": {
          "base_uri": "https://localhost:8080/"
        },
        "id": "1Znd5LcbQjo1",
        "outputId": "45558e1c-5ee5-402c-cbc4-3a0fa0b4f4f6"
      },
      "source": [
        "n=1\n",
        "sum=0\n",
        "while n<10:\n",
        "    sum=sum+n\n",
        "    n=n+2\n",
        "print('1+3+5+7+9=',sum)"
      ],
      "execution_count": null,
      "outputs": [
        {
          "output_type": "stream",
          "text": [
            "1+3+5+7+9= 25\n"
          ],
          "name": "stdout"
        }
      ]
    },
    {
      "cell_type": "code",
      "metadata": {
        "id": "x8LnwgJuSOXx",
        "colab": {
          "base_uri": "https://localhost:8080/"
        },
        "outputId": "769f55c1-4cb0-4afb-e146-341bb7407705"
      },
      "source": [
        "target=58\n",
        "while True:\n",
        "    guess=int(input(\"Enter a number:\"))\n",
        "    if guess==target:\n",
        "        print(\"correct answer!\")\n",
        "        break\n",
        "    else:\n",
        "        print(\"try again.\")\n",
        "        if guess>target:\n",
        "            print(\"guess smaller.\")\n",
        "        else:\n",
        "            print(\"guess larger.\")"
      ],
      "execution_count": null,
      "outputs": [
        {
          "output_type": "stream",
          "text": [
            "Enter a number:60\n",
            "try again.\n",
            "guess smaller.\n",
            "Enter a number:30\n",
            "try again.\n",
            "guess larger.\n",
            "Enter a number:50\n",
            "try again.\n",
            "guess larger.\n",
            "Enter a number:56\n",
            "try again.\n",
            "guess larger.\n",
            "Enter a number:58\n",
            "correct answer!\n"
          ],
          "name": "stdout"
        }
      ]
    },
    {
      "cell_type": "code",
      "metadata": {
        "id": "jzO9otkjffSz",
        "colab": {
          "base_uri": "https://localhost:8080/"
        },
        "outputId": "06a5cd4d-7d44-461d-9c63-8adaa50c829e"
      },
      "source": [
        "list1=[1,2,3,4,5]\n",
        "print(list1)\n",
        "list2=[\"1\",\"2\"]\n",
        "print(list2)\n",
        "list3=[1,2,\"happy\"]\n",
        "print(list3)\n",
        "print(\"happy\")\n",
        "list4=list(\"happy\")\n",
        "print(list4)"
      ],
      "execution_count": null,
      "outputs": [
        {
          "output_type": "stream",
          "text": [
            "[1, 2, 3, 4, 5]\n",
            "['1', '2']\n",
            "[1, 2, 'happy']\n",
            "happy\n",
            "['h', 'a', 'p', 'p', 'y']\n"
          ],
          "name": "stdout"
        }
      ]
    },
    {
      "cell_type": "code",
      "metadata": {
        "id": "P36Fl4CMXAEh",
        "colab": {
          "base_uri": "https://localhost:8080/"
        },
        "outputId": "22c064a6-0da2-4813-c366-65a81866f133"
      },
      "source": [
        "food=[\"banana\",\"apple\"]\n",
        "for i in food:\n",
        "    print(i,\"真的很好吃\")"
      ],
      "execution_count": null,
      "outputs": [
        {
          "output_type": "stream",
          "text": [
            "banana 真的很好吃\n",
            "apple 真的很好吃\n"
          ],
          "name": "stdout"
        }
      ]
    },
    {
      "cell_type": "code",
      "metadata": {
        "id": "1qW6w3oTcyzO"
      },
      "source": [
        ""
      ],
      "execution_count": null,
      "outputs": []
    },
    {
      "cell_type": "code",
      "metadata": {
        "id": "cDi-1ix2rIew"
      },
      "source": [
        ""
      ],
      "execution_count": null,
      "outputs": []
    }
  ]
}